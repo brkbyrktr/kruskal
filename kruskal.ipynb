{
  "nbformat": 4,
  "nbformat_minor": 0,
  "metadata": {
    "colab": {
      "provenance": [],
      "authorship_tag": "ABX9TyOeCjQeilBu/PUfeyYH9er7",
      "include_colab_link": true
    },
    "kernelspec": {
      "name": "python3",
      "display_name": "Python 3"
    },
    "language_info": {
      "name": "python"
    }
  },
  "cells": [
    {
      "cell_type": "markdown",
      "metadata": {
        "id": "view-in-github",
        "colab_type": "text"
      },
      "source": [
        "<a href=\"https://colab.research.google.com/github/brkbyrktr/kruskal/blob/main/kruskal.ipynb\" target=\"_parent\"><img src=\"https://colab.research.google.com/assets/colab-badge.svg\" alt=\"Open In Colab\"/></a>"
      ]
    },
    {
      "cell_type": "code",
      "execution_count": 13,
      "metadata": {
        "id": "xU7hEAd2a5mp"
      },
      "outputs": [],
      "source": [
        "import networkx as nx\n",
        "import matplotlib.pyplot as plt\n",
        "\n",
        "class Graph:\n",
        "  def __init__(self, dugum_sayisi):\n",
        "        self.V = dugum_sayisi\n",
        "        self.graph = []\n",
        "        self.edges = []\n",
        "        self.parent = {}\n",
        "        self.rank = {}\n",
        "\n",
        "        for i in range(self.V):\n",
        "            self.parent[i] = i\n",
        "            self.rank[i] = 0\n",
        "\n",
        "  def kenar_ekle(self, u, v, w):\n",
        "    self.graph.append([u, v, w])\n",
        "    self.edges.append((w, u, v))\n",
        "\n",
        "  def kok_bul(self, i):\n",
        "    if self.parent[i] == i:\n",
        "        return i\n",
        "    return self.kok_bul(self.parent[i])\n",
        "\n",
        "  def birlestir(self, x, y):\n",
        "    x_koku = self.kok_bul(x)\n",
        "    y_koku = self.kok_bul(y)\n",
        "\n",
        "    if self.rank[x_koku] < self.rank[y_koku]:\n",
        "        self.parent[x_koku] = y_koku\n",
        "    elif self.rank[x_koku] > self.rank[y_koku]:\n",
        "        self.parent[y_koku] = x_koku\n",
        "    else:\n",
        "        self.parent[y_koku] = x_koku\n",
        "        self.rank[x_koku] += 1\n",
        "\n",
        "  def kruskal_mst(self):\n",
        "    sonuc = []\n",
        "    i = 0\n",
        "    e = 0\n",
        "    self.edges = sorted(self.edges)\n",
        "\n",
        "    for kenar in self.edges:\n",
        "        w, u, v = kenar\n",
        "        u = ord(u) - 65\n",
        "        v = ord(v) - 65\n",
        "        x = self.kok_bul(u)\n",
        "        y = self.kok_bul(v)\n",
        "\n",
        "        if x != y:\n",
        "            e += 1\n",
        "            sonuc.append([u, v, w])\n",
        "            self.birlestir(x, y)\n",
        "\n",
        "        if e == self.V - 1:\n",
        "            break\n",
        "    min_yol=0\n",
        "    for u, v, agirlik in sonuc:\n",
        "        print(\"%c - %c: %d\" % (chr(u + 65), chr(v + 65), agirlik))\n",
        "        min_yol +=  agirlik\n",
        "\n",
        "\n",
        "    # graf oluşturma\n",
        "   \n",
        "    G = nx.Graph()\n",
        "\n",
        "    kenarlarim = []\n",
        "    for kenarlar in self.edges:\n",
        "      f, j, h = kenarlar\n",
        "      kenarlarim.append([j, h, f])\n",
        "\n",
        "    for h, j, k in kenarlarim:\n",
        "      G.add_edge(h, j, weight=k)\n",
        "\n",
        "\n",
        "    # ağacı oluşturma\n",
        "    T = nx.minimum_spanning_tree(G)\n",
        "\n",
        "    # düğüm etiketlerini belirleme\n",
        "    dugum_etiketleri = {dugum:dugum for dugum in G.nodes()}\n",
        "    kenar_etiketleri = {(h, j):k for (h, j, k) in G.edges(data='weight')}\n",
        "\n",
        "    # düzenleme\n",
        "    pos = nx.spring_layout(G)\n",
        "    nx.draw_networkx_nodes(G, pos, node_size=500)\n",
        "    nx.draw_networkx_edges(G, pos, width=2)\n",
        "    nx.draw_networkx_edges(T, pos, width=3, edge_color='red')\n",
        "    nx.draw_networkx_edge_labels(G, pos, edge_labels=kenar_etiketleri, font_size=12)\n",
        "    nx.draw_networkx_labels(G, pos, labels=dugum_etiketleri, font_size=12)\n",
        "\n",
        "\n",
        "    # çizimi gösterme\n",
        "    plt.axis('off')\n",
        "    plt.show()\n",
        "    print(\"Minimum yol uzunluk toplamı: \", min_yol)\n"
      ]
    },
    {
      "cell_type": "code",
      "source": [
        "g = Graph(15)\n",
        "g.kenar_ekle('C', 'A', 12)\n",
        "g.kenar_ekle('A', 'B', 16)\n",
        "g.kenar_ekle('B', 'E', 20)\n",
        "g.kenar_ekle('E', 'G', 11)\n",
        "g.kenar_ekle('G', 'F', 27)\n",
        "g.kenar_ekle('F', 'C', 31)\n",
        "g.kenar_ekle('A', 'D', 21)\n",
        "g.kenar_ekle('D', 'G', 23)\n",
        "g.kenar_ekle('B', 'D', 17)\n",
        "g.kenar_ekle('D', 'F', 19)\n",
        "g.kenar_ekle('E', 'D', 18)\n",
        "g.kenar_ekle('D', 'C', 28)\n",
        "\n",
        "g.kruskal_mst()\n"
      ],
      "metadata": {
        "colab": {
          "base_uri": "https://localhost:8080/",
          "height": 370
        },
        "id": "lsz_fR2cbCu2",
        "outputId": "27f021c7-ba1d-4c37-f5b4-436663bed352"
      },
      "execution_count": 15,
      "outputs": [
        {
          "output_type": "stream",
          "name": "stdout",
          "text": [
            "E - G: 11\n",
            "C - A: 12\n",
            "A - B: 16\n",
            "B - D: 17\n",
            "E - D: 18\n",
            "D - F: 19\n"
          ]
        },
        {
          "output_type": "display_data",
          "data": {
            "text/plain": [
              "<Figure size 432x288 with 1 Axes>"
            ],
            "image/png": "[encoded data removed]"
          },
          "metadata": {}
        },
        {
          "output_type": "stream",
          "name": "stdout",
          "text": [
            "Minimum yol uzunluk toplamı:  93\n"
          ]
        }
      ]
    }
  ]
}